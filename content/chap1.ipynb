{
 "cells": [
  {
   "cell_type": "markdown",
   "metadata": {},
   "source": [
    "# A Journey Through Open Source Licenses in Academia\n",
    "\n",
    "## This is a example article\n",
    "\n",
    "Dr. Patel sat at her desk, staring at her latest creation: a software tool designed to model climate data. It was a labor of love, built with her team over months of research. Now came the big question: how should they share it? Open source seemed like the obvious choice—collaboration was at the heart of academia—but the world of open source licenses was a maze.\n",
    "\n",
    "She reached out to Alex, a colleague from the university’s open-source program office. “I need to license my code,” she said, “but I want it to be useful to everyone, not just a few researchers.”\n",
    "\n",
    "Alex smiled. “That’s a great goal, but let’s talk about what ‘useful’ means for you and your team.”\n",
    "\n",
    "They started with permissive licenses like MIT and Apache 2.0. Alex explained that these licenses allowed others to freely use, modify, and even commercialize the code. “If your main goal is widespread adoption and adaptation, a permissive license might be the way to go,” Alex suggested.\n",
    "\n",
    "Dr. Patel nodded but hesitated. “What if someone takes our work, builds on it, and doesn’t share their improvements? That feels… unfair.”\n",
    "\n",
    "“In that case,” Alex replied, “a copyleft license like GPL could be better. It ensures that any modified versions of your software remain open source. It’s a way of protecting the collaborative spirit.”\n",
    "\n",
    "The conversation turned to research-specific concerns. “What about citations? We spent years developing this. I want people to acknowledge our work.”\n",
    "\n",
    "“That’s a common academic concern,” Alex said. “Licenses like Apache 2.0 can include citation requirements in an additional notice. Or you could include a clear citation policy in your documentation.”\n",
    "\n",
    "Dr. Patel felt a little more confident but brought up another worry. “Some of our collaborators are in industry. Will an open source license complicate that relationship?”\n",
    "\n",
    "Alex reassured her. “Many companies are open to permissive licenses, but it’s always good to involve your institution’s legal team and the industry partners in discussions.”\n",
    "\n",
    "By the end of the day, Dr. Patel had a clearer path forward. She and her team chose Apache 2.0, balancing openness with recognition. They added a citation policy and uploaded the code to GitHub.\n",
    "\n",
    "Months later, her software was being used by researchers worldwide—and someone from a research group in another country had contributed a feature Dr. Patel’s team had never imagined.\n",
    "\n",
    "Reflecting on the journey, Dr. Patel realized that choosing the right open source license wasn’t just a legal step; it was a way to align their software with the collaborative values of academic research, ensuring their work reached the broadest possible audience."
   ]
  }
 ],
 "metadata": {
  "kernelspec": {
   "display_name": "Python 3",
   "language": "python",
   "name": "python3"
  },
  "language_info": {
   "codemirror_mode": {
    "name": "ipython",
    "version": 3
   },
   "file_extension": ".py",
   "mimetype": "text/x-python",
   "name": "python",
   "nbconvert_exporter": "python",
   "pygments_lexer": "ipython3",
   "version": "3.8.0"
  },
  "widgets": {
   "application/vnd.jupyter.widget-state+json": {
    "state": {},
    "version_major": 2,
    "version_minor": 0
   }
  }
 },
 "nbformat": 4,
 "nbformat_minor": 4
}
